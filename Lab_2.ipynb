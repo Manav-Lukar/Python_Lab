{
  "nbformat": 4,
  "nbformat_minor": 0,
  "metadata": {
    "colab": {
      "name": "Lab_2.ipynb",
      "provenance": [],
      "collapsed_sections": [],
      "include_colab_link": true
    },
    "kernelspec": {
      "name": "python3",
      "display_name": "Python 3"
    }
  },
  "cells": [
    {
      "cell_type": "markdown",
      "metadata": {
        "id": "view-in-github",
        "colab_type": "text"
      },
      "source": [
        "<a href=\"https://colab.research.google.com/github/Manav-Lukar/Python_Lab/blob/MaNaV/Lab_2.ipynb\" target=\"_parent\"><img src=\"https://colab.research.google.com/assets/colab-badge.svg\" alt=\"Open In Colab\"/></a>"
      ]
    },
    {
      "cell_type": "markdown",
      "metadata": {
        "id": "nsJPnYaGwUZp"
      },
      "source": [
        "# print()"
      ]
    },
    {
      "cell_type": "code",
      "metadata": {
        "id": "IK6-_PN7hS3a",
        "colab": {
          "base_uri": "https://localhost:8080/",
          "height": 35
        },
        "outputId": "9ad0c304-687d-4df7-aceb-715314e80017"
      },
      "source": [
        "# hello world!\n",
        "\n",
        "print(\"Hello! Welcome to the course\")"
      ],
      "execution_count": null,
      "outputs": [
        {
          "output_type": "stream",
          "text": [
            "Hello! Welcome to the course\n"
          ],
          "name": "stdout"
        }
      ]
    },
    {
      "cell_type": "code",
      "metadata": {
        "id": "eXJsvwmEhhBH",
        "colab": {
          "base_uri": "https://localhost:8080/",
          "height": 35
        },
        "outputId": "92e86d6b-2736-4067-ca00-00c7317c226f"
      },
      "source": [
        "# comments in python vjbjvfjbdfjb\n",
        "\n",
        "# print(\"Hello World!\") \n",
        "print(\"hello Universe!\")"
      ],
      "execution_count": null,
      "outputs": [
        {
          "output_type": "stream",
          "text": [
            "hello Universe!\n"
          ],
          "name": "stdout"
        }
      ]
    },
    {
      "cell_type": "code",
      "metadata": {
        "id": "KaigmgiYiWyn",
        "colab": {
          "base_uri": "https://localhost:8080/",
          "height": 35
        },
        "outputId": "1c0c13da-b8e5-44dd-e505-e274a3919e4f"
      },
      "source": [
        "'''\n",
        "print(\"This\")\n",
        "print(\"is\")\n",
        "print(\"how we give multi-line comment\")\n",
        "5 + 3\n",
        "I am here\n",
        "'''\n",
        "print('This line')"
      ],
      "execution_count": null,
      "outputs": [
        {
          "output_type": "stream",
          "text": [
            "This line\n"
          ],
          "name": "stdout"
        }
      ]
    },
    {
      "cell_type": "code",
      "metadata": {
        "id": "TfvK4W9yh0oc",
        "colab": {
          "base_uri": "https://localhost:8080/",
          "height": 135
        },
        "outputId": "c0bf4fd1-a705-4deb-9922-7f9bf89d000d"
      },
      "source": [
        "# indentation in python\n",
        "\n",
        "print(\"abcd\")\n",
        "  print(\"efgh\")"
      ],
      "execution_count": null,
      "outputs": [
        {
          "output_type": "error",
          "ename": "IndentationError",
          "evalue": "ignored",
          "traceback": [
            "\u001b[0;36m  File \u001b[0;32m\"<ipython-input-10-18a776a6ca36>\"\u001b[0;36m, line \u001b[0;32m4\u001b[0m\n\u001b[0;31m    print(\"efgh\")\u001b[0m\n\u001b[0m    ^\u001b[0m\n\u001b[0;31mIndentationError\u001b[0m\u001b[0;31m:\u001b[0m unexpected indent\n"
          ]
        }
      ]
    },
    {
      "cell_type": "code",
      "metadata": {
        "id": "XZyvsczdh2jl",
        "colab": {
          "base_uri": "https://localhost:8080/",
          "height": 54
        },
        "outputId": "af0bc4ec-dc6b-4a07-df55-ce72a5b8e38b"
      },
      "source": [
        "# indentation\n",
        "\n",
        "print(\"abcd\")\n",
        "print(\"efgh\")"
      ],
      "execution_count": null,
      "outputs": [
        {
          "output_type": "stream",
          "text": [
            "abcd\n",
            "efgh\n"
          ],
          "name": "stdout"
        }
      ]
    },
    {
      "cell_type": "code",
      "metadata": {
        "id": "0T2G7KUevV5A",
        "colab": {
          "base_uri": "https://localhost:8080/",
          "height": 35
        },
        "outputId": "0e5c1a9c-7fc0-46d1-8b1e-f4bd3827c6a0"
      },
      "source": [
        "# printing more 2 more more strings\n",
        "# print('This is a message I want to print')\n",
        "print('This', 'is', 'a', 'course', \"on\", 'python')"
      ],
      "execution_count": null,
      "outputs": [
        {
          "output_type": "stream",
          "text": [
            "This is a course on python\n"
          ],
          "name": "stdout"
        }
      ]
    },
    {
      "cell_type": "code",
      "metadata": {
        "id": "T8e2MzzRxHs6",
        "colab": {
          "base_uri": "https://localhost:8080/",
          "height": 35
        },
        "outputId": "995d6534-b8a1-44a0-9776-4de2153db3c7"
      },
      "source": [
        "# Using seperator\n",
        "\n",
        "# print('This', 'is', 'a', 'course', 'on', 'python', sep=' ')\n",
        "\n",
        "print('This', 'is', \"a\", 'course', 'on', 'python', sep='**')"
      ],
      "execution_count": null,
      "outputs": [
        {
          "output_type": "stream",
          "text": [
            "This**is**a**course**on**python\n"
          ],
          "name": "stdout"
        }
      ]
    },
    {
      "cell_type": "code",
      "metadata": {
        "id": "I2BQE_EbxmTa",
        "colab": {
          "base_uri": "https://localhost:8080/",
          "height": 54
        },
        "outputId": "a698aeee-0033-48d9-bf7b-c625e076a480"
      },
      "source": [
        "# Using end parameter\n",
        "\n",
        "print('This is a course on python', end='\\n') # it defaults to '\\n'\n",
        "print('Another message')"
      ],
      "execution_count": null,
      "outputs": [
        {
          "output_type": "stream",
          "text": [
            "This is a course on python\n",
            "Another message\n"
          ],
          "name": "stdout"
        }
      ]
    },
    {
      "cell_type": "code",
      "metadata": {
        "id": "fxW_Oex04UIx",
        "colab": {
          "base_uri": "https://localhost:8080/",
          "height": 72
        },
        "outputId": "e0170391-acc4-4765-b881-a442da91f9f1"
      },
      "source": [
        "print('This is a course on python', end='\\n\\n')\n",
        "print('programming.')"
      ],
      "execution_count": null,
      "outputs": [
        {
          "output_type": "stream",
          "text": [
            "This is a course on python\n",
            "\n",
            "programming.\n"
          ],
          "name": "stdout"
        }
      ]
    },
    {
      "cell_type": "code",
      "metadata": {
        "id": "ZBFsku7Z4HIO",
        "colab": {
          "base_uri": "https://localhost:8080/",
          "height": 35
        },
        "outputId": "29d8b98c-4179-4bf8-bae1-bc38495d4cc9"
      },
      "source": [
        "print('This is a course on python', end='     ')\n",
        "print('programming.')"
      ],
      "execution_count": null,
      "outputs": [
        {
          "output_type": "stream",
          "text": [
            "This is a course on python     programming.\n"
          ],
          "name": "stdout"
        }
      ]
    },
    {
      "cell_type": "code",
      "metadata": {
        "id": "JJacOthwzjcQ",
        "colab": {
          "base_uri": "https://localhost:8080/",
          "height": 135
        },
        "outputId": "777fb657-68be-4756-9fd0-c8efcd1704f4"
      },
      "source": [
        "# printing string with quotes\n",
        "\n",
        "print('It's a beautiful day')"
      ],
      "execution_count": null,
      "outputs": [
        {
          "output_type": "error",
          "ename": "SyntaxError",
          "evalue": "ignored",
          "traceback": [
            "\u001b[0;36m  File \u001b[0;32m\"<ipython-input-25-745ba506e3c8>\"\u001b[0;36m, line \u001b[0;32m3\u001b[0m\n\u001b[0;31m    print('It's a beautiful day')\u001b[0m\n\u001b[0m              ^\u001b[0m\n\u001b[0;31mSyntaxError\u001b[0m\u001b[0;31m:\u001b[0m invalid syntax\n"
          ]
        }
      ]
    },
    {
      "cell_type": "code",
      "metadata": {
        "id": "cI51FDW63Kpw",
        "colab": {
          "base_uri": "https://localhost:8080/",
          "height": 35
        },
        "outputId": "33e8dd6c-8683-47c6-a201-5fa0e6073a73"
      },
      "source": [
        "print(\"It's a beautiful day\")"
      ],
      "execution_count": null,
      "outputs": [
        {
          "output_type": "stream",
          "text": [
            "It's a beautiful day\n"
          ],
          "name": "stdout"
        }
      ]
    },
    {
      "cell_type": "code",
      "metadata": {
        "id": "TdfQU2xE3WfP",
        "colab": {
          "base_uri": "https://localhost:8080/",
          "height": 35
        },
        "outputId": "66619113-ab0e-4f3f-b537-35c64f229667"
      },
      "source": [
        "print(\"It is called 'programming'\")"
      ],
      "execution_count": null,
      "outputs": [
        {
          "output_type": "stream",
          "text": [
            "It is called 'programming'\n"
          ],
          "name": "stdout"
        }
      ]
    },
    {
      "cell_type": "code",
      "metadata": {
        "id": "L392jDW73fi9",
        "colab": {
          "base_uri": "https://localhost:8080/",
          "height": 35
        },
        "outputId": "0b19454f-ff19-4081-e2d3-28bd8c984570"
      },
      "source": [
        "print ('It is called \"programming\"')"
      ],
      "execution_count": null,
      "outputs": [
        {
          "output_type": "stream",
          "text": [
            "It is called \"programming\"\n"
          ],
          "name": "stdout"
        }
      ]
    },
    {
      "cell_type": "code",
      "metadata": {
        "id": "TSYX-i0L3ufE",
        "colab": {
          "base_uri": "https://localhost:8080/",
          "height": 35
        },
        "outputId": "599fc584-6d7f-45e2-fe03-e06b21a26b77"
      },
      "source": [
        "# print \"It is called 'programming'\"\n",
        "print ('''\"It is called 'programming'\"''')"
      ],
      "execution_count": null,
      "outputs": [
        {
          "output_type": "stream",
          "text": [
            "\"It is called 'programming'\"\n"
          ],
          "name": "stdout"
        }
      ]
    },
    {
      "cell_type": "markdown",
      "metadata": {
        "id": "kss9LGN63FrE"
      },
      "source": [
        "# Escape Characters"
      ]
    },
    {
      "cell_type": "code",
      "metadata": {
        "id": "IzT4YCzl4vHS",
        "colab": {
          "base_uri": "https://localhost:8080/",
          "height": 35
        },
        "outputId": "41dc23ac-0287-4f53-e436-f629f57b7ca0"
      },
      "source": [
        "# single quote\n",
        "\n",
        "print('It\\'s a beautiful day..')"
      ],
      "execution_count": null,
      "outputs": [
        {
          "output_type": "stream",
          "text": [
            "It's a beautiful day..\n"
          ],
          "name": "stdout"
        }
      ]
    },
    {
      "cell_type": "code",
      "metadata": {
        "id": "_5nzLujk3SFa",
        "colab": {
          "base_uri": "https://localhost:8080/",
          "height": 54
        },
        "outputId": "09b68014-47d2-4a5d-940f-f49ff7f68a93"
      },
      "source": [
        "# new line\n",
        "\n",
        "print('Line 1 ends here\\nLine 2 starts here...')"
      ],
      "execution_count": null,
      "outputs": [
        {
          "output_type": "stream",
          "text": [
            "Line 1 ends here\n",
            "Line 2 starts here...\n"
          ],
          "name": "stdout"
        }
      ]
    },
    {
      "cell_type": "code",
      "metadata": {
        "id": "bUUyOIcO5nxx",
        "colab": {
          "base_uri": "https://localhost:8080/",
          "height": 35
        },
        "outputId": "279ff509-071e-4947-af39-36b3cfd82db2"
      },
      "source": [
        "# tab\n",
        "\n",
        "print('Phrase 1 ends here\\tPhrase 2 starts here...')"
      ],
      "execution_count": null,
      "outputs": [
        {
          "output_type": "stream",
          "text": [
            "Phrase 1 ends here\tPhrase 2 starts here...\n"
          ],
          "name": "stdout"
        }
      ]
    },
    {
      "cell_type": "markdown",
      "metadata": {
        "id": "R8k_O4vK6h-K"
      },
      "source": [
        "# Exercise"
      ]
    },
    {
      "cell_type": "code",
      "metadata": {
        "id": "IkGVqiGu8d1H",
        "colab": {
          "base_uri": "https://localhost:8080/",
          "height": 35
        },
        "outputId": "7000da71-6718-4c65-c3aa-de80feb889d1"
      },
      "source": [
        "'''\n",
        "Q1. Display the following text:\n",
        "I am here to learn \\python\\ programming.\n",
        "'''"
      ],
      "execution_count": null,
      "outputs": [
        {
          "output_type": "stream",
          "text": [
            "I am here to learn \\python\\ programming.\n"
          ],
          "name": "stdout"
        }
      ]
    },
    {
      "cell_type": "code",
      "metadata": {
        "id": "HSSfRq7R8gs6"
      },
      "source": [
        "'''\n",
        "Q2. Ask a user to enter his name and then print following message.\n",
        "'Hi user_name, Welcome to this course!'\n",
        "Eg.\n",
        "Input: Sarvesh\n",
        "Output: Hi Sarvesh, Welcome to this course!\n",
        "'''"
      ],
      "execution_count": null,
      "outputs": []
    },
    {
      "cell_type": "code",
      "metadata": {
        "id": "son5Rqkd7kMV",
        "colab": {
          "base_uri": "https://localhost:8080/",
          "height": 126
        },
        "outputId": "aa9aea1f-7b3a-4228-b019-6d749739384a"
      },
      "source": [
        "'''\n",
        "Q3. Use a single print() statement to print the following string in the format shown.\n",
        "\n",
        "Twinkle, twinkle, little star,\n",
        "\tHow I wonder what you are!\n",
        "\t\tUp above the world so high,\n",
        "\t\tLike a diamond in the sky.\n",
        "Twinkle, twinkle, little star,\n",
        "\tHow I wonder what you are!\n",
        "'''"
      ],
      "execution_count": null,
      "outputs": [
        {
          "output_type": "stream",
          "text": [
            "Twinkle, twinkle, little star,\n",
            "\tHow I wonder what you are!\n",
            "\t\tUp above the world so high,\n",
            "\t\tLike a diamond in the sky.\n",
            "Twinkle, twinkle, little star,\n",
            "\tHow I wonder what you are!\n"
          ],
          "name": "stdout"
        }
      ]
    }
  ]
}